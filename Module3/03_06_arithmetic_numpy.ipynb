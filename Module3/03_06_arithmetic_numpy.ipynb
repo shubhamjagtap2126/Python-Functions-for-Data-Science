{
 "cells": [
  {
   "cell_type": "code",
   "execution_count": null,
   "metadata": {},
   "outputs": [],
   "source": [
    "# import relevant libraries\n",
    "import numpy as np"
   ]
  },
  {
   "cell_type": "code",
   "execution_count": null,
   "metadata": {},
   "outputs": [],
   "source": [
    "# initialize arrayA as a one-dimensional numpy array\n",
    "# containing the odd integers between 1 and 20 inclusive\n",
    "arrayA = np.arange(1, 21, 2)\n",
    "arrayA"
   ]
  },
  {
   "cell_type": "code",
   "execution_count": null,
   "metadata": {},
   "outputs": [],
   "source": [
    "# initialize arrayB as a one-dimensional numpy array \n",
    "# containing the integers 1 to 10 inclusive\n",
    "arrayB = np.arange(1, 11)\n",
    "arrayB"
   ]
  },
  {
   "cell_type": "code",
   "execution_count": null,
   "metadata": {},
   "outputs": [],
   "source": [
    "# add each element of arrayA to each corresponding element of arrayB,\n",
    "# creating a new numpy array\n",
    "arrayA + arrayB"
   ]
  },
  {
   "cell_type": "code",
   "execution_count": null,
   "metadata": {},
   "outputs": [],
   "source": [
    "# subtract each element of arrayB from each corresponding element from arrayA,\n",
    "# creating a new numpy array\n",
    "arrayA - arrayB"
   ]
  },
  {
   "cell_type": "code",
   "execution_count": null,
   "metadata": {},
   "outputs": [],
   "source": [
    "# multiply each element of arrayA by each corresponding element of arrayB,\n",
    "# creating a new numpy array\n",
    "arrayA * arrayB"
   ]
  },
  {
   "cell_type": "code",
   "execution_count": null,
   "metadata": {},
   "outputs": [],
   "source": [
    "# divide each element of arrayA by each corresponding element of arrayB,\n",
    "# creating a new numpy array\n",
    "arrayA / arrayB"
   ]
  },
  {
   "cell_type": "code",
   "execution_count": null,
   "metadata": {},
   "outputs": [],
   "source": [
    "# initialize arrayC as a multi-dimensional numpy array with 2 rows and 3 columns\n",
    "arrayC = np.array([[1, 2, 3], [4, 5, 6]])\n",
    "arrayC"
   ]
  },
  {
   "cell_type": "code",
   "execution_count": null,
   "metadata": {},
   "outputs": [],
   "source": [
    "# initialize arrayD as another multi-dimensional numpy array with 2 rows and 3 columns\n",
    "arrayD = np.array([[7, 8, 9], [10, 11, 12]])\n",
    "arrayD"
   ]
  },
  {
   "cell_type": "code",
   "execution_count": null,
   "metadata": {},
   "outputs": [],
   "source": [
    "# add each element of arrayC to each corresponding element of arrayD,\n",
    "# creating a new numpy array\n",
    "arrayC + arrayD"
   ]
  },
  {
   "cell_type": "code",
   "execution_count": null,
   "metadata": {},
   "outputs": [],
   "source": [
    "# subtract each element of arrayD from each corresponding element from arrayC,\n",
    "# creating a new numpy array\n",
    "arrayC - arrayD"
   ]
  },
  {
   "cell_type": "code",
   "execution_count": null,
   "metadata": {},
   "outputs": [],
   "source": [
    "# multiply each element of arrayC by each corresponding element of arrayD,\n",
    "# creating a new numpy array\n",
    "arrayC * arrayD"
   ]
  },
  {
   "cell_type": "code",
   "execution_count": null,
   "metadata": {},
   "outputs": [],
   "source": [
    "# divide each element of arrayC by each corresponding element of arrayD,\n",
    "# creating a new numpy array\n",
    "arrayC / arrayD"
   ]
  },
  {
   "cell_type": "code",
   "execution_count": null,
   "metadata": {},
   "outputs": [],
   "source": []
  }
 ],
 "metadata": {
  "kernelspec": {
   "display_name": "Python 3",
   "language": "python",
   "name": "python3"
  },
  "language_info": {
   "codemirror_mode": {
    "name": "ipython",
    "version": 3
   },
   "file_extension": ".py",
   "mimetype": "text/x-python",
   "name": "python",
   "nbconvert_exporter": "python",
   "pygments_lexer": "ipython3",
   "version": "3.6.9"
  }
 },
 "nbformat": 4,
 "nbformat_minor": 4
}
