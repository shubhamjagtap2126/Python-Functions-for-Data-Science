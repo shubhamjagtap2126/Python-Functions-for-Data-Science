{
 "cells": [
  {
   "cell_type": "code",
   "execution_count": null,
   "metadata": {},
   "outputs": [],
   "source": [
    "# import relevant libraries\n",
    "import numpy as np"
   ]
  },
  {
   "cell_type": "code",
   "execution_count": null,
   "metadata": {},
   "outputs": [],
   "source": [
    "# initialize arrayA as a one-dimensional numpy array \n",
    "# containing the integers 0 to 5 inclusive\n",
    "arrayA = np.arange(6)\n",
    "arrayA"
   ]
  },
  {
   "cell_type": "code",
   "execution_count": null,
   "metadata": {},
   "outputs": [],
   "source": [
    "# compute the square of each item in arrayA,\n",
    "# creating a new numpy array\n",
    "np.square(arrayA)"
   ]
  },
  {
   "cell_type": "code",
   "execution_count": null,
   "metadata": {},
   "outputs": [],
   "source": [
    "# initialize arrayB as the following one-dimensional numpy array\n",
    "arrayB = np.array([36, 49, 64, 81, 100, 121, 144, 169, 196, 225])"
   ]
  },
  {
   "cell_type": "code",
   "execution_count": null,
   "metadata": {},
   "outputs": [],
   "source": [
    "# compute the square root of each item in arrayB,\n",
    "# creating a new numpy array\n",
    "np.sqrt(arrayB)"
   ]
  },
  {
   "cell_type": "code",
   "execution_count": null,
   "metadata": {},
   "outputs": [],
   "source": [
    "# compute the exponential of each item in arrayA,\n",
    "# creating a new numpy array\n",
    "np.exp(arrayA)"
   ]
  },
  {
   "cell_type": "code",
   "execution_count": null,
   "metadata": {},
   "outputs": [],
   "source": [
    "# initialize arrayC as a one-dimensional numpy array \n",
    "# containing the integers 1 to 11 inclusive\n",
    "arrayC = np.arange(1, 11)\n",
    "arrayC"
   ]
  },
  {
   "cell_type": "code",
   "execution_count": null,
   "metadata": {},
   "outputs": [],
   "source": [
    "# compute the natural logarithm of each item in arrayC,\n",
    "# creating a new numpy array\n",
    "np.log(arrayC)"
   ]
  },
  {
   "cell_type": "code",
   "execution_count": null,
   "metadata": {},
   "outputs": [],
   "source": [
    "# initialize arrayD as a one-dimensional numpy array\n",
    "# representing some angles in radians\n",
    "arrayD = np.array([0, np.pi/6, np.pi/4, np.pi/3, np.pi/2, 2*np.pi/3, 3*np.pi/4, 5*np.pi/6, np.pi/2])"
   ]
  },
  {
   "cell_type": "code",
   "execution_count": null,
   "metadata": {},
   "outputs": [],
   "source": [
    "# compute the sine of each item in arrayD,\n",
    "# creating a new numpy array\n",
    "np.sin(arrayD)"
   ]
  },
  {
   "cell_type": "code",
   "execution_count": null,
   "metadata": {},
   "outputs": [],
   "source": [
    "# initialize arrayE as a one-dimensional numpy array containing the integers -10 to 10 inclusive\n",
    "arrayE = np.arange(-10, 11)\n",
    "arrayE"
   ]
  },
  {
   "cell_type": "code",
   "execution_count": null,
   "metadata": {},
   "outputs": [],
   "source": [
    "# compute the absolute value of each item in arrayE,\n",
    "# creating a new numpy array\n",
    "np.abs(arrayE)"
   ]
  },
  {
   "cell_type": "code",
   "execution_count": null,
   "metadata": {},
   "outputs": [],
   "source": [
    "# initialize arrayF as the following one-dimensional numpy array\n",
    "arrayF = np.arange(21)\n",
    "arrayF"
   ]
  },
  {
   "cell_type": "code",
   "execution_count": null,
   "metadata": {},
   "outputs": [],
   "source": [
    "# compute the sum of all the items in arrayF\n",
    "np.sum(arrayF)"
   ]
  },
  {
   "cell_type": "code",
   "execution_count": null,
   "metadata": {},
   "outputs": [],
   "source": [
    "# initialize arrayG as the following multi-dimensional numpy array\n",
    "arrayG = np.array([[1, 2, 3], [4, 5, 6], [7, 8, 9]])\n",
    "arrayG"
   ]
  },
  {
   "cell_type": "code",
   "execution_count": null,
   "metadata": {},
   "outputs": [],
   "source": [
    "# compute the sum of all the items in arrayG\n",
    "np.sum(arrayG)"
   ]
  },
  {
   "cell_type": "code",
   "execution_count": null,
   "metadata": {},
   "outputs": [],
   "source": [
    "# compute the sum of the items in each column of arrayG,\n",
    "# creating a new numpy array containing the sum for each column\n",
    "np.sum(arrayG, axis=0)"
   ]
  },
  {
   "cell_type": "code",
   "execution_count": null,
   "metadata": {},
   "outputs": [],
   "source": [
    "# compute the sum of the items in each row of arrayG,\n",
    "# creating a new numpy array containing the sum for each row\n",
    "np.sum(arrayG, axis=1)"
   ]
  },
  {
   "cell_type": "code",
   "execution_count": null,
   "metadata": {},
   "outputs": [],
   "source": []
  }
 ],
 "metadata": {
  "kernelspec": {
   "display_name": "Python 3",
   "language": "python",
   "name": "python3"
  },
  "language_info": {
   "codemirror_mode": {
    "name": "ipython",
    "version": 3
   },
   "file_extension": ".py",
   "mimetype": "text/x-python",
   "name": "python",
   "nbconvert_exporter": "python",
   "pygments_lexer": "ipython3",
   "version": "3.6.9"
  }
 },
 "nbformat": 4,
 "nbformat_minor": 4
}
