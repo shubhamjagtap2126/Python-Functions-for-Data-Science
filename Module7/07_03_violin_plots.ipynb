{
 "cells": [
  {
   "cell_type": "code",
   "execution_count": null,
   "metadata": {},
   "outputs": [],
   "source": [
    "# import relevant libraries\n",
    "import numpy as np\n",
    "import pandas as pd\n",
    "import matplotlib.pyplot as plt\n",
    "import seaborn as sns"
   ]
  },
  {
   "cell_type": "code",
   "execution_count": null,
   "metadata": {},
   "outputs": [],
   "source": [
    "# create a numpy array representing the scores of 400 students \n",
    "# on midterm1\n",
    "m1 = np.random.normal(70, 10, size=400)\n",
    "\n",
    "# create a numpy array representing the students' scores\n",
    "# on midterm2\n",
    "m2 = np.random.normal(80, 15, size=400)\n",
    "\n",
    "# create a numpy array representing the students' scores\n",
    "# on the final exam\n",
    "final = np.random.normal(75, 20, size=400)\n",
    "\n",
    "# create a list of the exam types\n",
    "exams = ['midterm1']*400 + ['midterm2']*400 + ['final']*400\n",
    "\n",
    "# create a numpy array containing all the scores\n",
    "scores = np.append(m1, np.array([m2, final]))\n",
    "\n",
    "# create a pandas dataframe representing midterm1, midterm2, and final exam scores\n",
    "# for the class of 400 students \n",
    "exam_scores = pd.DataFrame({'exam': exams, 'score': scores})"
   ]
  },
  {
   "cell_type": "code",
   "execution_count": null,
   "metadata": {},
   "outputs": [],
   "source": [
    "# display first few rows of exam_scores\n",
    "exam_scores.head()"
   ]
  },
  {
   "cell_type": "code",
   "execution_count": null,
   "metadata": {},
   "outputs": [],
   "source": [
    "# draw a vertical violin plot of the scores\n",
    "sns.violinplot(y='score', data=exam_scores);"
   ]
  },
  {
   "cell_type": "code",
   "execution_count": null,
   "metadata": {},
   "outputs": [],
   "source": [
    "# draw a vertical violin plot of the scores grouped by exam type\n",
    "sns.violinplot(x='exam', y='score', data=exam_scores);"
   ]
  },
  {
   "cell_type": "code",
   "execution_count": null,
   "metadata": {},
   "outputs": [],
   "source": []
  }
 ],
 "metadata": {
  "kernelspec": {
   "display_name": "Python 3",
   "language": "python",
   "name": "python3"
  },
  "language_info": {
   "codemirror_mode": {
    "name": "ipython",
    "version": 3
   },
   "file_extension": ".py",
   "mimetype": "text/x-python",
   "name": "python",
   "nbconvert_exporter": "python",
   "pygments_lexer": "ipython3",
   "version": "3.6.9"
  }
 },
 "nbformat": 4,
 "nbformat_minor": 4
}
