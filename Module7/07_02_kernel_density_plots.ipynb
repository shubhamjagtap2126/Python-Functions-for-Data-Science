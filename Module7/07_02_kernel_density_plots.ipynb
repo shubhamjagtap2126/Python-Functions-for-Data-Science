{
 "cells": [
  {
   "cell_type": "code",
   "execution_count": null,
   "metadata": {},
   "outputs": [],
   "source": [
    "# import relevant libraries\n",
    "import numpy as np\n",
    "import pandas as pd\n",
    "import matplotlib.pyplot as plt\n",
    "import seaborn as sns"
   ]
  },
  {
   "cell_type": "code",
   "execution_count": null,
   "metadata": {},
   "outputs": [],
   "source": [
    "# create a pandas series representing the scores of 400 students \n",
    "# on a particular exam\n",
    "scores = pd.Series(np.random.normal(70, 15, size=400))"
   ]
  },
  {
   "cell_type": "code",
   "execution_count": null,
   "metadata": {},
   "outputs": [],
   "source": [
    "# initialize mean as a list containing two means, \n",
    "# corresponding to the bivariate distribution\n",
    "mean = [60, 70]\n",
    "\n",
    "# initialize covariance_matrix as the covariance matrix \n",
    "# of the bivariate distribution\n",
    "covariance_matrix = [(1, .5), (.5, 1)]\n",
    "\n",
    "# initialize data as a two-dimensional numpy array containing \n",
    "# random samples drawn from \n",
    "# the specified bivariate normal distribution\n",
    "data = np.random.multivariate_normal(mean, \n",
    "                                     covariance_matrix, size=400)\n",
    "\n",
    "# initialize midterms as a pandas dataframe \n",
    "# containing data as column values \n",
    "# and midterm1, midterm2 as column labels\n",
    "midterms = pd.DataFrame(data, columns=[\"midterm1\", \"midterm2\"])"
   ]
  },
  {
   "cell_type": "code",
   "execution_count": null,
   "metadata": {},
   "outputs": [],
   "source": [
    "# display first few values in scores\n",
    "scores.head()"
   ]
  },
  {
   "cell_type": "code",
   "execution_count": null,
   "metadata": {},
   "outputs": [],
   "source": [
    "# create a kernel density estimate plot\n",
    "# to visualize the univariate distribution of scores\n",
    "sns.kdeplot(scores);"
   ]
  },
  {
   "cell_type": "code",
   "execution_count": null,
   "metadata": {},
   "outputs": [],
   "source": [
    "# create a shaded kernel density estimate plot\n",
    "# to visualize the univariate distribution of scores\n",
    "sns.kdeplot(scores, shade=True);"
   ]
  },
  {
   "cell_type": "code",
   "execution_count": null,
   "metadata": {},
   "outputs": [],
   "source": [
    "# display first few rows of midterms\n",
    "midterms.head()"
   ]
  },
  {
   "cell_type": "code",
   "execution_count": null,
   "metadata": {},
   "outputs": [],
   "source": [
    "# create a two-dimensional kernel density estimate plot \n",
    "# to visualize the bivariate distribution of midterm1 and midterm2\n",
    "sns.kdeplot(midterms['midterm1'], midterms['midterm2']);"
   ]
  },
  {
   "cell_type": "code",
   "execution_count": null,
   "metadata": {},
   "outputs": [],
   "source": [
    "# create a shaded two-dimensional kernel density estimate plot \n",
    "# to visualize the bivariate distribution of midterm1 and midterm2\n",
    "sns.kdeplot(midterms['midterm1'], midterms['midterm2'], shade=True);"
   ]
  },
  {
   "cell_type": "code",
   "execution_count": null,
   "metadata": {},
   "outputs": [],
   "source": []
  }
 ],
 "metadata": {
  "kernelspec": {
   "display_name": "Python 3",
   "language": "python",
   "name": "python3"
  },
  "language_info": {
   "codemirror_mode": {
    "name": "ipython",
    "version": 3
   },
   "file_extension": ".py",
   "mimetype": "text/x-python",
   "name": "python",
   "nbconvert_exporter": "python",
   "pygments_lexer": "ipython3",
   "version": "3.6.9"
  }
 },
 "nbformat": 4,
 "nbformat_minor": 4
}
