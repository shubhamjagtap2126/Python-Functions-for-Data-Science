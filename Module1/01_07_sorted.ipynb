{
 "cells": [
  {
   "cell_type": "code",
   "execution_count": null,
   "metadata": {},
   "outputs": [],
   "source": [
    "# initialize names as a list containing the names of some people\n",
    "names = ['Alondra', 'Spencer', 'Elizabeth', 'Eddie', 'Henrietta']"
   ]
  },
  {
   "cell_type": "code",
   "execution_count": null,
   "metadata": {},
   "outputs": [],
   "source": [
    "# sort names in ascending alphabetical order & save in variable names_sorted_a\n",
    "names_sorted_a = sorted(names)\n",
    "names_sorted_a"
   ]
  },
  {
   "cell_type": "code",
   "execution_count": null,
   "metadata": {},
   "outputs": [],
   "source": [
    "# note that names itself was not modified\n",
    "names"
   ]
  },
  {
   "cell_type": "code",
   "execution_count": null,
   "metadata": {},
   "outputs": [],
   "source": [
    "# sort names in descending alphabetical order & save in variable names_sorted_d\n",
    "names_sorted_d = sorted(names, reverse=True)\n",
    "names_sorted_d"
   ]
  },
  {
   "cell_type": "code",
   "execution_count": null,
   "metadata": {},
   "outputs": [],
   "source": [
    "# note that names itself was not modified\n",
    "names"
   ]
  },
  {
   "cell_type": "code",
   "execution_count": null,
   "metadata": {},
   "outputs": [],
   "source": [
    "# initialize nums as a tuple containing some integers\n",
    "nums = (5, -2, 7, -1, 9, 0)"
   ]
  },
  {
   "cell_type": "code",
   "execution_count": null,
   "metadata": {},
   "outputs": [],
   "source": [
    "# sort nums in ascending order & save in variable nums_sorted_a\n",
    "nums_sorted_a = sorted(nums)\n",
    "nums_sorted_a"
   ]
  },
  {
   "cell_type": "code",
   "execution_count": null,
   "metadata": {},
   "outputs": [],
   "source": [
    "# note that nums itself was not modified\n",
    "nums"
   ]
  },
  {
   "cell_type": "code",
   "execution_count": null,
   "metadata": {},
   "outputs": [],
   "source": [
    "# sort nums in descending order & save in variable nums_sorted_d\n",
    "nums_sorted_d = sorted(nums, reverse=True)\n",
    "nums_sorted_d"
   ]
  },
  {
   "cell_type": "code",
   "execution_count": null,
   "metadata": {},
   "outputs": [],
   "source": [
    "# note that nums itself was not modified\n",
    "nums"
   ]
  },
  {
   "cell_type": "code",
   "execution_count": null,
   "metadata": {},
   "outputs": [],
   "source": [
    "# initialize listF as a list containing some floating-point numbers\n",
    "listF = [1.2, -6.17, -9.53, 5.8, -6.7]"
   ]
  },
  {
   "cell_type": "code",
   "execution_count": null,
   "metadata": {},
   "outputs": [],
   "source": [
    "# sort listF in ascending order & save in variable listF_sorted_a\n",
    "listF_sorted_a = sorted(listF)\n",
    "listF_sorted_a"
   ]
  },
  {
   "cell_type": "code",
   "execution_count": null,
   "metadata": {},
   "outputs": [],
   "source": [
    "# note that listF itself was not modified\n",
    "listF"
   ]
  },
  {
   "cell_type": "code",
   "execution_count": null,
   "metadata": {},
   "outputs": [],
   "source": [
    "# sort listF in descending order & save in variable listF_sorted_d\n",
    "listF_sorted_d = sorted(listF, reverse=True)\n",
    "listF_sorted_d"
   ]
  },
  {
   "cell_type": "code",
   "execution_count": null,
   "metadata": {},
   "outputs": [],
   "source": [
    "# note that listF itself was not modified\n",
    "listF"
   ]
  },
  {
   "cell_type": "code",
   "execution_count": null,
   "metadata": {},
   "outputs": [],
   "source": []
  }
 ],
 "metadata": {
  "kernelspec": {
   "display_name": "Python 3",
   "language": "python",
   "name": "python3"
  },
  "language_info": {
   "codemirror_mode": {
    "name": "ipython",
    "version": 3
   },
   "file_extension": ".py",
   "mimetype": "text/x-python",
   "name": "python",
   "nbconvert_exporter": "python",
   "pygments_lexer": "ipython3",
   "version": "3.6.9"
  }
 },
 "nbformat": 4,
 "nbformat_minor": 4
}
