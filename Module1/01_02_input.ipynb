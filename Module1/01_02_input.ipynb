{
 "cells": [
  {
   "cell_type": "code",
   "execution_count": null,
   "metadata": {},
   "outputs": [],
   "source": [
    "# import relevant libraries\n",
    "import pandas as pd\n",
    "import numpy as np"
   ]
  },
  {
   "cell_type": "code",
   "execution_count": null,
   "metadata": {},
   "outputs": [],
   "source": [
    "# prompt user for name & store reply in variable\n",
    "name = input('Please enter your name: ')\n",
    "\n",
    "# display response to user\n",
    "print('Nice to meet you,', name)"
   ]
  },
  {
   "cell_type": "code",
   "execution_count": null,
   "metadata": {},
   "outputs": [],
   "source": [
    "# read grades dataset & save as a pandas dataframe\n",
    "grades = pd.read_csv('grades.csv')"
   ]
  },
  {
   "cell_type": "code",
   "execution_count": null,
   "metadata": {},
   "outputs": [],
   "source": [
    "# display first ten rows of grades\n",
    "grades.iloc[:10]"
   ]
  },
  {
   "cell_type": "code",
   "execution_count": null,
   "metadata": {},
   "outputs": [],
   "source": [
    "# check for missing values in grade column\n",
    "if grades['grade'].isnull().values.any():\n",
    "    print('there are missing values')\n",
    "else:\n",
    "    print('there are no missing values')"
   ]
  },
  {
   "cell_type": "code",
   "execution_count": null,
   "metadata": {},
   "outputs": [],
   "source": [
    "# fill missing grades with zeros\n",
    "grades['grade'] = grades['grade'].fillna(0)"
   ]
  },
  {
   "cell_type": "code",
   "execution_count": null,
   "metadata": {},
   "outputs": [],
   "source": [
    "# display first ten rows of grades\n",
    "grades.iloc[:10]"
   ]
  },
  {
   "cell_type": "code",
   "execution_count": null,
   "metadata": {},
   "outputs": [],
   "source": [
    "# compute mean grade for Exam #1 & save in variable\n",
    "exam1_mean = grades.loc[grades['exam'] == 1]['grade'].mean()\n",
    "exam1_mean"
   ]
  },
  {
   "cell_type": "code",
   "execution_count": null,
   "metadata": {},
   "outputs": [],
   "source": [
    "# prompt user for grade & save in variable\n",
    "grade = input('Please enter your grade for Exam #1: ')\n",
    "\n",
    "# compute difference from exam1_mean & save in variable\n",
    "diff = int(grade) - exam1_mean\n",
    "\n",
    "# display response to user based on diff\n",
    "if (diff > 0):\n",
    "    print('You scored', diff, 'percent higher than the mean,', exam1_mean)\n",
    "elif (diff < 0):\n",
    "    print('You scored', diff, 'percent lower than the mean,', exam1_mean)\n",
    "else:\n",
    "    print('You scored the same as the mean')"
   ]
  },
  {
   "cell_type": "code",
   "execution_count": null,
   "metadata": {},
   "outputs": [],
   "source": []
  }
 ],
 "metadata": {
  "kernelspec": {
   "display_name": "Python 3",
   "language": "python",
   "name": "python3"
  },
  "language_info": {
   "codemirror_mode": {
    "name": "ipython",
    "version": 3
   },
   "file_extension": ".py",
   "mimetype": "text/x-python",
   "name": "python",
   "nbconvert_exporter": "python",
   "pygments_lexer": "ipython3",
   "version": "3.6.9"
  }
 },
 "nbformat": 4,
 "nbformat_minor": 4
}
