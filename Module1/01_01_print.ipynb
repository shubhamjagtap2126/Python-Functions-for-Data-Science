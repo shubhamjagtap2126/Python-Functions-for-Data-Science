{
 "cells": [
  {
   "cell_type": "code",
   "execution_count": null,
   "metadata": {},
   "outputs": [],
   "source": [
    "# import relevant libraries\n",
    "import pandas as pd"
   ]
  },
  {
   "cell_type": "code",
   "execution_count": null,
   "metadata": {},
   "outputs": [],
   "source": [
    "# initialize greeting\n",
    "greeting = 'Hello World!'\n",
    "\n",
    "print(greeting)"
   ]
  },
  {
   "cell_type": "code",
   "execution_count": null,
   "metadata": {},
   "outputs": [],
   "source": [
    "# initialize greeting1\n",
    "greeting1 = 'Hey'\n",
    "\n",
    "# initialize name1\n",
    "name1 = 'Shubham'\n",
    "\n",
    "# initialize greeting2\n",
    "greeting2 = 'Hello'\n",
    "\n",
    "# initialize name2\n",
    "name2 = 'Jagtap'\n",
    "\n",
    "# initialize punctuation\n",
    "punctuation = '!'"
   ]
  },
  {
   "cell_type": "code",
   "execution_count": null,
   "metadata": {},
   "outputs": [],
   "source": [
    "print(greeting1, name1, punctuation)\n",
    "\n",
    "print(greeting2, name2, punctuation)"
   ]
  },
  {
   "cell_type": "code",
   "execution_count": null,
   "metadata": {},
   "outputs": [],
   "source": [
    "# initialize odd_nums as a list containing some odd integers\n",
    "odd_nums = [-5, -3, -1, 1, 3, 5]\n",
    "\n",
    "print(odd_nums)"
   ]
  },
  {
   "cell_type": "code",
   "execution_count": null,
   "metadata": {},
   "outputs": [],
   "source": [
    "# initialize a point on a line\n",
    "(x1, y1) = (5, 6)\n",
    "\n",
    "# initialize another point on the same line\n",
    "(x2, y2) = (-7, -8)\n",
    "\n",
    "# compute slope of line using the two points & display with label\n",
    "print('slope:', (y2 - y1) / (x2 - x1))"
   ]
  },
  {
   "cell_type": "code",
   "execution_count": null,
   "metadata": {},
   "outputs": [],
   "source": [
    "# read grades dataset & save as a pandas dataframe\n",
    "grades = pd.read_csv('grades.csv')\n",
    "\n",
    "# display first ten rows of grades\n",
    "grades.iloc[:10]"
   ]
  },
  {
   "cell_type": "code",
   "execution_count": null,
   "metadata": {},
   "outputs": [],
   "source": [
    "# check for missing values in grade column\n",
    "if grades['grade'].isnull().values.any():\n",
    "    print('Missing values')\n",
    "else:\n",
    "    print('No missing values')"
   ]
  },
  {
   "cell_type": "code",
   "execution_count": null,
   "metadata": {},
   "outputs": [],
   "source": [
    "# fill missing grades with zeros\n",
    "grades['grade'] = grades['grade'].fillna(0)"
   ]
  },
  {
   "cell_type": "code",
   "execution_count": null,
   "metadata": {},
   "outputs": [],
   "source": [
    "# display first ten rows of grades\n",
    "grades.iloc[:10]"
   ]
  },
  {
   "cell_type": "code",
   "execution_count": null,
   "metadata": {},
   "outputs": [],
   "source": [
    "grades_atleast_70 = grades.loc[grades['grade'] >= 70]['grade'].values\n",
    "grades_below_70 = grades.loc[grades['grade'] < 70]['grade'].values"
   ]
  },
  {
   "cell_type": "code",
   "execution_count": null,
   "metadata": {},
   "outputs": [],
   "source": [
    "print('grades atleast 70%:', grades_atleast_70)\n",
    "\n",
    "print('grades below 70%:', grades_below_70)"
   ]
  },
  {
   "cell_type": "code",
   "execution_count": null,
   "metadata": {},
   "outputs": [],
   "source": []
  }
 ],
 "metadata": {
  "kernelspec": {
   "display_name": "Python 3 (ipykernel)",
   "language": "python",
   "name": "python3"
  },
  "language_info": {
   "codemirror_mode": {
    "name": "ipython",
    "version": 3
   },
   "file_extension": ".py",
   "mimetype": "text/x-python",
   "name": "python",
   "nbconvert_exporter": "python",
   "pygments_lexer": "ipython3",
   "version": "3.9.5"
  }
 },
 "nbformat": 4,
 "nbformat_minor": 4
}
