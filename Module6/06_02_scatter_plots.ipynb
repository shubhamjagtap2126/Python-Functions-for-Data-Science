{
 "cells": [
  {
   "cell_type": "code",
   "execution_count": null,
   "metadata": {},
   "outputs": [],
   "source": [
    "# import relevant libraries and modules\n",
    "import pandas as pd\n",
    "import matplotlib.pyplot as plt"
   ]
  },
  {
   "cell_type": "code",
   "execution_count": null,
   "metadata": {},
   "outputs": [],
   "source": [
    "# create a list of temperatures (in fahrenheit)\n",
    "temp = [78, 89, 73, 75, 90, 99, 101,100,50,68,81, 85, 86, 70]\n",
    "\n",
    "# create a list of sales (in $)\n",
    "sale = [216,275,203,210,315,402,380,374,90,95,115,130,150,140]\n",
    "\n",
    "# create a pandas dataframe containing the the sales \n",
    "# (in dollars) of an ice cream truck for 14 days \n",
    "# and the (temperature) in fahrenheit for each day\n",
    "sales = pd.DataFrame(data={'temp':temp,'ice cream truck sale':sale})"
   ]
  },
  {
   "cell_type": "code",
   "execution_count": null,
   "metadata": {},
   "outputs": [],
   "source": [
    "# display sales\n",
    "sales"
   ]
  },
  {
   "cell_type": "code",
   "execution_count": null,
   "metadata": {},
   "outputs": [],
   "source": [
    "# create a scatter plot --- plot ice cream truck sale versus temp\n",
    "plt.scatter(sales['temp'], sales['ice cream truck sale'])\n",
    "plt.xlabel('Temperature (Fahrenheit)')\n",
    "plt.ylabel('Ice Cream Truck Sale ($)')\n",
    "plt.title('Ice Cream Truck Sale versus Temperature')\n",
    "plt.show()"
   ]
  },
  {
   "cell_type": "code",
   "execution_count": null,
   "metadata": {},
   "outputs": [],
   "source": []
  }
 ],
 "metadata": {
  "kernelspec": {
   "display_name": "Python 3",
   "language": "python",
   "name": "python3"
  },
  "language_info": {
   "codemirror_mode": {
    "name": "ipython",
    "version": 3
   },
   "file_extension": ".py",
   "mimetype": "text/x-python",
   "name": "python",
   "nbconvert_exporter": "python",
   "pygments_lexer": "ipython3",
   "version": "3.6.9"
  }
 },
 "nbformat": 4,
 "nbformat_minor": 4
}
