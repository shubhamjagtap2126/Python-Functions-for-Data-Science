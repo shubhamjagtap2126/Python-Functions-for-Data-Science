{
 "cells": [
  {
   "cell_type": "code",
   "execution_count": null,
   "metadata": {},
   "outputs": [],
   "source": [
    "# import relevant libraries and modules\n",
    "import pandas as pd\n",
    "import matplotlib.pyplot as plt"
   ]
  },
  {
   "cell_type": "code",
   "execution_count": null,
   "metadata": {},
   "outputs": [],
   "source": [
    "# create a list of days\n",
    "days = [1,2,3,4,5,6,7]\n",
    "\n",
    "# create a list of temperatures (in fahrenheit)\n",
    "temps = [72,73,77,81,79,72,68]\n",
    "\n",
    "# create a pandas dataframe \n",
    "# containing the temperatues (in fahrenheit) for 7 consecutive days in Santa Barbara, CA\n",
    "temp_sb = pd.DataFrame(data={'day':days,'temperature':temps})"
   ]
  },
  {
   "cell_type": "code",
   "execution_count": null,
   "metadata": {},
   "outputs": [],
   "source": [
    "# create a list of days\n",
    "days = [1,2,3,4,5,6,7]\n",
    "\n",
    "# create a list of temperatures (in fahrenheit)\n",
    "temps = [93,91,91,91,91,88,90]\n",
    "\n",
    "# create a pandas dataframe \n",
    "# containing the temperatues (in fahrenheit) for 7 consecutive days in Memphis, TN\n",
    "temp_mem = pd.DataFrame(data={'day':days,'temperature':temps})"
   ]
  },
  {
   "cell_type": "code",
   "execution_count": null,
   "metadata": {},
   "outputs": [],
   "source": [
    "# display temp_sb\n",
    "temp_sb"
   ]
  },
  {
   "cell_type": "code",
   "execution_count": null,
   "metadata": {},
   "outputs": [],
   "source": [
    "# display temp_mem\n",
    "temp_mem"
   ]
  },
  {
   "cell_type": "code",
   "execution_count": null,
   "metadata": {},
   "outputs": [],
   "source": [
    "# create a line plot of Santa Barbara data:\n",
    "# plot temperature versus day in Santa Barbara\n",
    "plt.plot(temp_sb['day'], temp_sb['temperature'])\n",
    "plt.xlabel('Day')\n",
    "plt.ylabel('Temperature (Fahrenheit)')\n",
    "plt.title('Temperature versus Day in Santa Barbara, CA')\n",
    "plt.show()"
   ]
  },
  {
   "cell_type": "code",
   "execution_count": null,
   "metadata": {},
   "outputs": [],
   "source": [
    "# create a line plot of Memphis data:\n",
    "# plot temperature versus day in Memphis\n",
    "plt.plot(temp_mem['day'], temp_mem['temperature'])\n",
    "plt.xlabel('Day')\n",
    "plt.ylabel('Temperature (Fahrenheit)')\n",
    "plt.title('Temperature versus Day in Memphis, TN')\n",
    "plt.show()"
   ]
  },
  {
   "cell_type": "code",
   "execution_count": null,
   "metadata": {},
   "outputs": [],
   "source": [
    "# plot santa barbara data and memphis data on the same line plot with a legend\n",
    "plt.plot(temp_sb['day'], temp_sb['temperature'], label='Santa Barbara, CA')\n",
    "plt.plot(temp_mem['day'], temp_mem['temperature'], label='Memphis, TN')\n",
    "plt.xlabel('Day')\n",
    "plt.ylabel('Temperature (Fahrenheit)')\n",
    "plt.legend()\n",
    "plt.show()"
   ]
  },
  {
   "cell_type": "code",
   "execution_count": null,
   "metadata": {},
   "outputs": [],
   "source": []
  }
 ],
 "metadata": {
  "kernelspec": {
   "display_name": "Python 3",
   "language": "python",
   "name": "python3"
  },
  "language_info": {
   "codemirror_mode": {
    "name": "ipython",
    "version": 3
   },
   "file_extension": ".py",
   "mimetype": "text/x-python",
   "name": "python",
   "nbconvert_exporter": "python",
   "pygments_lexer": "ipython3",
   "version": "3.6.9"
  }
 },
 "nbformat": 4,
 "nbformat_minor": 4
}
