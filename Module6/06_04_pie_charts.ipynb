{
 "cells": [
  {
   "cell_type": "code",
   "execution_count": null,
   "metadata": {},
   "outputs": [],
   "source": [
    "# import relevant libraries and modules\n",
    "import pandas as pd\n",
    "import matplotlib.pyplot as plt"
   ]
  },
  {
   "cell_type": "code",
   "execution_count": null,
   "metadata": {},
   "outputs": [],
   "source": [
    "# create a list of categories\n",
    "categ = ['Homework', 'Labs', 'Quizzes', 'Midterm', 'Final']\n",
    "\n",
    "# create a list of weights (in %)\n",
    "weights = [15, 15, 15, 22, 33]\n",
    "\n",
    "# create a pandas dataframe containing the weighted components \n",
    "# used to give students their grades in a particular course\n",
    "breakdown = pd.DataFrame(data={'category':categ,'weight':weights})"
   ]
  },
  {
   "cell_type": "code",
   "execution_count": null,
   "metadata": {},
   "outputs": [],
   "source": [
    "# display breakdown\n",
    "breakdown"
   ]
  },
  {
   "cell_type": "code",
   "execution_count": null,
   "metadata": {},
   "outputs": [],
   "source": [
    "# create a pie chart --- illustrate the breakdown of students' course \n",
    "# grades in a particular course\n",
    "plt.figure(figsize=(7,7))\n",
    "plt.pie(breakdown['weight'], labels=breakdown['category'], \n",
    "        autopct='%1.0f%%')\n",
    "plt.title('Breakdown of Course Grade')\n",
    "plt.show()"
   ]
  },
  {
   "cell_type": "code",
   "execution_count": null,
   "metadata": {},
   "outputs": [],
   "source": []
  }
 ],
 "metadata": {
  "kernelspec": {
   "display_name": "Python 3",
   "language": "python",
   "name": "python3"
  },
  "language_info": {
   "codemirror_mode": {
    "name": "ipython",
    "version": 3
   },
   "file_extension": ".py",
   "mimetype": "text/x-python",
   "name": "python",
   "nbconvert_exporter": "python",
   "pygments_lexer": "ipython3",
   "version": "3.6.9"
  }
 },
 "nbformat": 4,
 "nbformat_minor": 4
}
