{
 "cells": [
  {
   "cell_type": "code",
   "execution_count": 1,
   "metadata": {},
   "outputs": [],
   "source": [
    "# import relevant libraries\n",
    "import numpy as np\n",
    "import pandas as pd"
   ]
  },
  {
   "cell_type": "code",
   "execution_count": 2,
   "metadata": {},
   "outputs": [
    {
     "data": {
      "text/plain": [
       "0    10\n",
       "1    -9\n",
       "2    -1\n",
       "3    -2\n",
       "4     3\n",
       "5    -7\n",
       "6     7\n",
       "7    -5\n",
       "dtype: int64"
      ]
     },
     "execution_count": 2,
     "metadata": {},
     "output_type": "execute_result"
    }
   ],
   "source": [
    "# create a pandas series containing 8 random integers from -10 to 10 inclusive\n",
    "pd.Series(np.random.randint(-10, 11, size=8))"
   ]
  },
  {
   "cell_type": "code",
   "execution_count": 3,
   "metadata": {},
   "outputs": [
    {
     "data": {
      "text/plain": [
       "a    -6\n",
       "b    -8\n",
       "c    -6\n",
       "d     7\n",
       "e     5\n",
       "f   -10\n",
       "g    -1\n",
       "h     6\n",
       "dtype: int64"
      ]
     },
     "execution_count": 3,
     "metadata": {},
     "output_type": "execute_result"
    }
   ],
   "source": [
    "# create a pandas series containing 8 random integers from -10 to 10 inclusive \n",
    "# with index being a through h\n",
    "pd.Series(np.random.randint(-10, 11, size=8),\n",
    "         index=['a', 'b', 'c', 'd', 'e', 'f', 'g', 'h'])"
   ]
  },
  {
   "cell_type": "code",
   "execution_count": 4,
   "metadata": {},
   "outputs": [
    {
     "data": {
      "text/plain": [
       "Mon     True\n",
       "Tue    False\n",
       "Wed     True\n",
       "Thu    False\n",
       "Fri     True\n",
       "Sat    False\n",
       "Sun     True\n",
       "dtype: bool"
      ]
     },
     "execution_count": 4,
     "metadata": {},
     "output_type": "execute_result"
    }
   ],
   "source": [
    "# create a pandas series from a Python dictionary\n",
    "pd.Series({'Mon': True, 'Tue': False, 'Wed': True, 'Thu': False,\n",
    "          'Fri': True, 'Sat': False, 'Sun': True})"
   ]
  },
  {
   "cell_type": "code",
   "execution_count": 5,
   "metadata": {},
   "outputs": [
    {
     "data": {
      "text/plain": [
       "1     150\n",
       "2     150\n",
       "3     150\n",
       "4     150\n",
       "5     150\n",
       "6     150\n",
       "7     150\n",
       "8     150\n",
       "9     150\n",
       "10    150\n",
       "dtype: int64"
      ]
     },
     "execution_count": 5,
     "metadata": {},
     "output_type": "execute_result"
    }
   ],
   "source": [
    "# create a pandas series from a scalar value\n",
    "# to represent the maximum number of points students can earn \n",
    "# in each of 10 exams for a particular course\n",
    "pd.Series(150, index=np.arange(1, 11))"
   ]
  },
  {
   "cell_type": "code",
   "execution_count": null,
   "metadata": {},
   "outputs": [],
   "source": []
  }
 ],
 "metadata": {
  "kernelspec": {
   "display_name": "Python 3",
   "language": "python",
   "name": "python3"
  },
  "language_info": {
   "codemirror_mode": {
    "name": "ipython",
    "version": 3
   },
   "file_extension": ".py",
   "mimetype": "text/x-python",
   "name": "python",
   "nbconvert_exporter": "python",
   "pygments_lexer": "ipython3",
   "version": "3.6.9"
  }
 },
 "nbformat": 4,
 "nbformat_minor": 4
}
