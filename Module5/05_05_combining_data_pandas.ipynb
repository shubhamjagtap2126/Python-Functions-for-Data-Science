{
 "cells": [
  {
   "cell_type": "code",
   "execution_count": null,
   "metadata": {},
   "outputs": [],
   "source": [
    "# import relevant libraries\n",
    "import numpy as np\n",
    "import pandas as pd"
   ]
  },
  {
   "cell_type": "code",
   "execution_count": null,
   "metadata": {},
   "outputs": [],
   "source": [
    "# create a pandas dataframe containing grades on exam #1 \n",
    "# for students with student id numbers 1 through 5\n",
    "exam1_grades = pd.DataFrame({'SID': [1, 2, 3, 4, 5], \n",
    "                             'exam1': [86.0, 65.0, 70.0, 98.0, 89.0]})\n",
    "\n",
    "# create a pandas dataframe containing grades on exam #2 \n",
    "# for students with student id numbers 1 through 5\n",
    "exam2_grades = pd.DataFrame({'SID': [1, 2, 3, 4, 5], \n",
    "                             'exam2': [80.0, 87.0, 82.0, 95.0, 96.0]})"
   ]
  },
  {
   "cell_type": "code",
   "execution_count": null,
   "metadata": {},
   "outputs": [],
   "source": [
    "# create a pandas dataframe containing grades on exam #1 and exam #2 \n",
    "# for students with id numbers 1 through 7\n",
    "sid_1_to_7 = pd.DataFrame({'SID': [1, 2, 3, 4, 5, 6, 7],\n",
    "              'exam1': [86.0, 65.0, 70.0, 98.0, 89.0, 75.0, 56.0],\n",
    "              'exam2': [80.0, 87.0, 82.0, 95.0, 96.0, 78.0, 80.0]})\n",
    "\n",
    "# create a pandas dataframe containing grades on exam #1 and exam #2 \n",
    "# for students with id numbers 8 through 10\n",
    "sid_8_to_10 = pd.DataFrame({'SID': [8, 9, 10], \n",
    "                            'exam1': [90.0, 81.0, 0.0], \n",
    "                            'exam2': [87.0, 82.0, 95.0]})"
   ]
  },
  {
   "cell_type": "code",
   "execution_count": null,
   "metadata": {},
   "outputs": [],
   "source": [
    "# create a pandas dataframe containing grades on exam #1 and exam #2 \n",
    "# for students 1 through 5\n",
    "exams1and2 = pd.DataFrame({'exam1': [86.0, 65.0, 70.0, 98.0, 89.0],\n",
    "              'exam2': [80.0, 87.0, 82.0, 95.0, 96.0]},\n",
    "              index=['student1', 'student2', 'student3', 'student4', 'student5'])\n",
    "\n",
    "# create a pandas dataframe containing grades on exam #3 for students 1 through 5\n",
    "exam3 = pd.DataFrame({'exam3': [78.0, 80.0, 87.0, 89.0, 89.0]},\n",
    "              index=['student1', 'student2', 'student3', 'student4', 'student5'])"
   ]
  },
  {
   "cell_type": "code",
   "execution_count": null,
   "metadata": {},
   "outputs": [],
   "source": [
    "# display exam1_grades\n",
    "exam1_grades"
   ]
  },
  {
   "cell_type": "code",
   "execution_count": null,
   "metadata": {},
   "outputs": [],
   "source": [
    "# display exam2_grades\n",
    "exam2_grades"
   ]
  },
  {
   "cell_type": "code",
   "execution_count": null,
   "metadata": {},
   "outputs": [],
   "source": [
    "# merge exam1_grades and exam2_grades on 'SID'\n",
    "# result will be a new pandas dataframe\n",
    "pd.merge(exam1_grades, exam2_grades, on='SID')"
   ]
  },
  {
   "cell_type": "code",
   "execution_count": null,
   "metadata": {},
   "outputs": [],
   "source": [
    "# display sid_1_to_7\n",
    "sid_1_to_7"
   ]
  },
  {
   "cell_type": "code",
   "execution_count": null,
   "metadata": {},
   "outputs": [],
   "source": [
    "# display sid_8_to_10\n",
    "sid_8_to_10"
   ]
  },
  {
   "cell_type": "code",
   "execution_count": null,
   "metadata": {},
   "outputs": [],
   "source": [
    "# concatenate sid_1_to_7 and sid_8_to_10 along the rows (along axis 0)\n",
    "# result will be a new pandas dataframe\n",
    "pd.concat([sid_1_to_7, sid_8_to_10], axis=0)"
   ]
  },
  {
   "cell_type": "code",
   "execution_count": null,
   "metadata": {},
   "outputs": [],
   "source": [
    "# display exams1and2\n",
    "exams1and2"
   ]
  },
  {
   "cell_type": "code",
   "execution_count": null,
   "metadata": {},
   "outputs": [],
   "source": [
    "# display exam3\n",
    "exam3"
   ]
  },
  {
   "cell_type": "code",
   "execution_count": null,
   "metadata": {},
   "outputs": [],
   "source": [
    "# concatenate exams1and2 and exam3 along the columns (along axis 1)\n",
    "# result will be a new pandas dataframe\n",
    "pd.concat([exams1and2, exam3], axis=1)"
   ]
  },
  {
   "cell_type": "code",
   "execution_count": null,
   "metadata": {},
   "outputs": [],
   "source": []
  }
 ],
 "metadata": {
  "kernelspec": {
   "display_name": "Python 3",
   "language": "python",
   "name": "python3"
  },
  "language_info": {
   "codemirror_mode": {
    "name": "ipython",
    "version": 3
   },
   "file_extension": ".py",
   "mimetype": "text/x-python",
   "name": "python",
   "nbconvert_exporter": "python",
   "pygments_lexer": "ipython3",
   "version": "3.6.9"
  }
 },
 "nbformat": 4,
 "nbformat_minor": 4
}
