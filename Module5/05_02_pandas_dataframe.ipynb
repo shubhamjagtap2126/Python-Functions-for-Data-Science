{
 "cells": [
  {
   "cell_type": "code",
   "execution_count": null,
   "metadata": {},
   "outputs": [],
   "source": [
    "# import relevant libraries\n",
    "import numpy as np\n",
    "import pandas as pd"
   ]
  },
  {
   "cell_type": "code",
   "execution_count": null,
   "metadata": {},
   "outputs": [],
   "source": [
    "# read grades.csv into a pandas dataframe & save the dataframe in a variable\n",
    "grades = pd.read_csv('grades.csv')"
   ]
  },
  {
   "cell_type": "code",
   "execution_count": null,
   "metadata": {},
   "outputs": [],
   "source": [
    "# display grades\n",
    "grades"
   ]
  },
  {
   "cell_type": "code",
   "execution_count": null,
   "metadata": {},
   "outputs": [],
   "source": [
    "# display first few rows of grades\n",
    "grades.head()"
   ]
  },
  {
   "cell_type": "code",
   "execution_count": null,
   "metadata": {},
   "outputs": [],
   "source": [
    "# create a Python dictionary of Series & save in a variable named points\n",
    "points = {'player1': pd.Series([15, 10, 20, 25], \n",
    "                               index=['game1', 'game2', 'game3', 'game4']),\n",
    "         'player2': pd.Series([10, 15, 23, 27],\n",
    "                             index=['game1', 'game2', 'game3', 'game4'])}\n",
    "\n",
    "# create a pandas dataframe from points\n",
    "pd.DataFrame(points)"
   ]
  },
  {
   "cell_type": "code",
   "execution_count": null,
   "metadata": {},
   "outputs": [],
   "source": [
    "# create a Python dictionary of lists & save in a variable named sales\n",
    "sales = {'foodTruck1': [216,275,203,210,315,402,380],\n",
    "        'foodTruck2': [374,90,95,115,130,150,140]}\n",
    "\n",
    "# create a pandas dataframe from sales with index being day1 through day7\n",
    "pd.DataFrame(sales, index=['day1', 'day2', 'day3', 'day4', 'day5', 'day6', 'day7'])"
   ]
  },
  {
   "cell_type": "code",
   "execution_count": null,
   "metadata": {},
   "outputs": [],
   "source": [
    "# create a multi-dimensional numpy array & save in a variable named passengers\n",
    "passengers = np.array([[20, 40, 60, 80], [15, 30, 45, 60], [10, 20, 30, 40]])\n",
    "\n",
    "# create a pandas DataFrame from passengers\n",
    "# with index being plane1 through plane3 \n",
    "# and columns being infants, children, adults, seniors\n",
    "pd.DataFrame(passengers, \n",
    "             index=['plane1', 'plane2', 'plane3'], \n",
    "             columns=['infants', 'children', 'adults', 'seniors'])"
   ]
  },
  {
   "cell_type": "code",
   "execution_count": null,
   "metadata": {},
   "outputs": [],
   "source": []
  }
 ],
 "metadata": {
  "kernelspec": {
   "display_name": "Python 3",
   "language": "python",
   "name": "python3"
  },
  "language_info": {
   "codemirror_mode": {
    "name": "ipython",
    "version": 3
   },
   "file_extension": ".py",
   "mimetype": "text/x-python",
   "name": "python",
   "nbconvert_exporter": "python",
   "pygments_lexer": "ipython3",
   "version": "3.6.9"
  }
 },
 "nbformat": 4,
 "nbformat_minor": 4
}
